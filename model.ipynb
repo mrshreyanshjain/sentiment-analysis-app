{
 "cells": [
  {
   "cell_type": "code",
   "id": "initial_id",
   "metadata": {
    "collapsed": true,
    "ExecuteTime": {
     "end_time": "2025-07-10T10:52:18.585681Z",
     "start_time": "2025-07-10T10:52:17.756958Z"
    }
   },
   "source": [
    "import pandas as pd\n",
    "import numpy as np\n",
    "import matplotlib.pyplot as plt"
   ],
   "outputs": [],
   "execution_count": 1
  },
  {
   "metadata": {
    "ExecuteTime": {
     "end_time": "2025-07-10T10:52:18.609666Z",
     "start_time": "2025-07-10T10:52:18.605992Z"
    }
   },
   "cell_type": "code",
   "source": "path=\"data/product_reviews_balanced_1MF.csv\"",
   "id": "78f31566938b053",
   "outputs": [],
   "execution_count": 2
  },
  {
   "metadata": {
    "ExecuteTime": {
     "end_time": "2025-07-10T10:52:18.689158Z",
     "start_time": "2025-07-10T10:52:18.623935Z"
    }
   },
   "cell_type": "code",
   "source": [
    "df=pd.read_csv(path)\n",
    "df.head()"
   ],
   "id": "c2f860b8fce03369",
   "outputs": [
    {
     "data": {
      "text/plain": [
       "                                      review  sentiment\n",
       "0  Pretty good product, met my expectations.       Good\n",
       "1             Works well. I'm happy with it.       Good\n",
       "2              Not good. Poor build quality.        Bad\n",
       "3   Great build and design. Excellent value.  Excellent\n",
       "4   Great build and design. Excellent value.  Excellent"
      ],
      "text/html": [
       "<div>\n",
       "<style scoped>\n",
       "    .dataframe tbody tr th:only-of-type {\n",
       "        vertical-align: middle;\n",
       "    }\n",
       "\n",
       "    .dataframe tbody tr th {\n",
       "        vertical-align: top;\n",
       "    }\n",
       "\n",
       "    .dataframe thead th {\n",
       "        text-align: right;\n",
       "    }\n",
       "</style>\n",
       "<table border=\"1\" class=\"dataframe\">\n",
       "  <thead>\n",
       "    <tr style=\"text-align: right;\">\n",
       "      <th></th>\n",
       "      <th>review</th>\n",
       "      <th>sentiment</th>\n",
       "    </tr>\n",
       "  </thead>\n",
       "  <tbody>\n",
       "    <tr>\n",
       "      <th>0</th>\n",
       "      <td>Pretty good product, met my expectations.</td>\n",
       "      <td>Good</td>\n",
       "    </tr>\n",
       "    <tr>\n",
       "      <th>1</th>\n",
       "      <td>Works well. I'm happy with it.</td>\n",
       "      <td>Good</td>\n",
       "    </tr>\n",
       "    <tr>\n",
       "      <th>2</th>\n",
       "      <td>Not good. Poor build quality.</td>\n",
       "      <td>Bad</td>\n",
       "    </tr>\n",
       "    <tr>\n",
       "      <th>3</th>\n",
       "      <td>Great build and design. Excellent value.</td>\n",
       "      <td>Excellent</td>\n",
       "    </tr>\n",
       "    <tr>\n",
       "      <th>4</th>\n",
       "      <td>Great build and design. Excellent value.</td>\n",
       "      <td>Excellent</td>\n",
       "    </tr>\n",
       "  </tbody>\n",
       "</table>\n",
       "</div>"
      ]
     },
     "execution_count": 3,
     "metadata": {},
     "output_type": "execute_result"
    }
   ],
   "execution_count": 3
  },
  {
   "metadata": {
    "ExecuteTime": {
     "end_time": "2025-07-10T10:52:18.976013Z",
     "start_time": "2025-07-10T10:52:18.962780Z"
    }
   },
   "cell_type": "code",
   "source": "df.isnull().sum()",
   "id": "323ffb8abd76c335",
   "outputs": [
    {
     "data": {
      "text/plain": [
       "review       0\n",
       "sentiment    0\n",
       "dtype: int64"
      ]
     },
     "execution_count": 4,
     "metadata": {},
     "output_type": "execute_result"
    }
   ],
   "execution_count": 4
  },
  {
   "metadata": {
    "ExecuteTime": {
     "end_time": "2025-07-10T10:52:19.289797Z",
     "start_time": "2025-07-10T10:52:19.280520Z"
    }
   },
   "cell_type": "code",
   "source": "df.dropna(inplace=True)",
   "id": "d184bebebdc9babf",
   "outputs": [],
   "execution_count": 5
  },
  {
   "metadata": {
    "ExecuteTime": {
     "end_time": "2025-07-10T10:52:19.761542Z",
     "start_time": "2025-07-10T10:52:19.743978Z"
    }
   },
   "cell_type": "code",
   "source": "df.isnull().sum()",
   "id": "432a460641b4676",
   "outputs": [
    {
     "data": {
      "text/plain": [
       "review       0\n",
       "sentiment    0\n",
       "dtype: int64"
      ]
     },
     "execution_count": 6,
     "metadata": {},
     "output_type": "execute_result"
    }
   ],
   "execution_count": 6
  },
  {
   "metadata": {},
   "cell_type": "markdown",
   "source": "### Cleaning",
   "id": "3ccb1fcbf9857861"
  },
  {
   "metadata": {
    "ExecuteTime": {
     "end_time": "2025-07-10T10:52:20.036667Z",
     "start_time": "2025-07-10T10:52:19.916396Z"
    }
   },
   "cell_type": "code",
   "source": [
    "plt.pie(x = df['sentiment'].value_counts(), labels = df['sentiment'].value_counts().index, autopct = '%1.1f%%')\n",
    "plt.show()"
   ],
   "id": "e89285c8c9f2cee2",
   "outputs": [
    {
     "data": {
      "text/plain": [
       "<Figure size 640x480 with 1 Axes>"
      ],
      "image/png": "[encoded data removed]"
     },
     "metadata": {},
     "output_type": "display_data"
    }
   ],
   "execution_count": 7
  },
  {
   "metadata": {
    "ExecuteTime": {
     "end_time": "2025-07-10T10:52:20.175172Z",
     "start_time": "2025-07-10T10:52:20.170036Z"
    }
   },
   "cell_type": "code",
   "source": "df.columns",
   "id": "1692ce6f1c2c5e74",
   "outputs": [
    {
     "data": {
      "text/plain": [
       "Index(['review', 'sentiment'], dtype='object')"
      ]
     },
     "execution_count": 8,
     "metadata": {},
     "output_type": "execute_result"
    }
   ],
   "execution_count": 8
  },
  {
   "metadata": {
    "ExecuteTime": {
     "end_time": "2025-07-10T10:52:22.046814Z",
     "start_time": "2025-07-10T10:52:20.266890Z"
    }
   },
   "cell_type": "code",
   "source": [
    "import re\n",
    "import nltk\n",
    "from nltk.tokenize import word_tokenize\n",
    "from nltk.corpus import stopwords\n",
    "from nltk.stem import WordNetLemmatizer\n",
    "from sklearn.feature_extraction.text import TfidfVectorizer\n",
    "\n",
    "nltk.download('punkt')\n",
    "nltk.download('stopwords')\n",
    "nltk.download('wordnet')\n",
    "nltk.download('omw-1.4')"
   ],
   "id": "fc3c641403c31b6",
   "outputs": [
    {
     "name": "stderr",
     "output_type": "stream",
     "text": [
      "[nltk_data] Downloading package punkt to\n",
      "[nltk_data]     C:\\Users\\mrshr\\AppData\\Roaming\\nltk_data...\n",
      "[nltk_data]   Package punkt is already up-to-date!\n",
      "[nltk_data] Downloading package stopwords to\n",
      "[nltk_data]     C:\\Users\\mrshr\\AppData\\Roaming\\nltk_data...\n",
      "[nltk_data]   Package stopwords is already up-to-date!\n",
      "[nltk_data] Downloading package wordnet to\n",
      "[nltk_data]     C:\\Users\\mrshr\\AppData\\Roaming\\nltk_data...\n",
      "[nltk_data]   Package wordnet is already up-to-date!\n",
      "[nltk_data] Downloading package omw-1.4 to\n",
      "[nltk_data]     C:\\Users\\mrshr\\AppData\\Roaming\\nltk_data...\n",
      "[nltk_data]   Package omw-1.4 is already up-to-date!\n"
     ]
    },
    {
     "data": {
      "text/plain": [
       "True"
      ]
     },
     "execution_count": 9,
     "metadata": {},
     "output_type": "execute_result"
    }
   ],
   "execution_count": 9
  },
  {
   "metadata": {
    "ExecuteTime": {
     "end_time": "2025-07-10T10:52:22.067010Z",
     "start_time": "2025-07-10T10:52:22.062162Z"
    }
   },
   "cell_type": "code",
   "source": [
    "def clean_text(text):\n",
    "    # Convert to lowercase\n",
    "    text = text.lower()\n",
    "\n",
    "    # Remove special characters and numbers\n",
    "    text = re.sub(r'[^a-zA-Z\\s]', '', text)\n",
    "\n",
    "    # Tokenize\n",
    "    tokens = word_tokenize(text)\n",
    "\n",
    "    # Remove stopwords\n",
    "    stop_words = set(stopwords.words('english'))\n",
    "    tokens = [token for token in tokens if token not in stop_words]\n",
    "\n",
    "    # Lemmatization\n",
    "    lemmatizer = WordNetLemmatizer()\n",
    "    tokens = [lemmatizer.lemmatize(token) for token in tokens]\n",
    "\n",
    "    # Join tokens back into text\n",
    "    cleaned_text = ' '.join(tokens)\n",
    "\n",
    "    return cleaned_text\n"
   ],
   "id": "91515f84b16ca6bd",
   "outputs": [],
   "execution_count": 10
  },
  {
   "metadata": {
    "ExecuteTime": {
     "end_time": "2025-07-10T10:52:44.356834Z",
     "start_time": "2025-07-10T10:52:22.094404Z"
    }
   },
   "cell_type": "code",
   "source": "df[\"clean_review\"] = df[\"review\"].apply(clean_text)",
   "id": "4db1d7664f6c8d2c",
   "outputs": [],
   "execution_count": 11
  },
  {
   "metadata": {
    "ExecuteTime": {
     "end_time": "2025-07-10T10:52:44.403359Z",
     "start_time": "2025-07-10T10:52:44.392161Z"
    }
   },
   "cell_type": "code",
   "source": "df['clean_review'].head()",
   "id": "ad4e8f5f8f4525f8",
   "outputs": [
    {
     "data": {
      "text/plain": [
       "0    pretty good product met expectation\n",
       "1                     work well im happy\n",
       "2                good poor build quality\n",
       "3     great build design excellent value\n",
       "4     great build design excellent value\n",
       "Name: clean_review, dtype: object"
      ]
     },
     "execution_count": 12,
     "metadata": {},
     "output_type": "execute_result"
    }
   ],
   "execution_count": 12
  },
  {
   "metadata": {
    "ExecuteTime": {
     "end_time": "2025-07-10T10:52:44.508076Z",
     "start_time": "2025-07-10T10:52:44.501273Z"
    }
   },
   "cell_type": "code",
   "source": [
    "X=df['clean_review']\n",
    "y=df['sentiment']"
   ],
   "id": "2748df039c575388",
   "outputs": [],
   "execution_count": 13
  },
  {
   "metadata": {
    "ExecuteTime": {
     "end_time": "2025-07-10T10:52:45.423919Z",
     "start_time": "2025-07-10T10:52:44.617531Z"
    }
   },
   "cell_type": "code",
   "source": [
    "# Vectorize text\n",
    "tfdif = TfidfVectorizer()\n",
    "X = tfdif.fit_transform(X)"
   ],
   "id": "a3d4335d6ad1a4f7",
   "outputs": [],
   "execution_count": 14
  },
  {
   "metadata": {
    "ExecuteTime": {
     "end_time": "2025-07-10T10:52:45.485893Z",
     "start_time": "2025-07-10T10:52:45.462935Z"
    }
   },
   "cell_type": "code",
   "source": "X=X.toarray()",
   "id": "386fb945d4699c60",
   "outputs": [],
   "execution_count": 15
  },
  {
   "metadata": {
    "ExecuteTime": {
     "end_time": "2025-07-10T10:52:45.539890Z",
     "start_time": "2025-07-10T10:52:45.522823Z"
    }
   },
   "cell_type": "code",
   "source": [
    "from sklearn.naive_bayes import MultinomialNB\n",
    "from sklearn.model_selection import train_test_split\n",
    "from sklearn.metrics import accuracy_score, classification_report\n",
    "import joblib"
   ],
   "id": "151f9e9278527976",
   "outputs": [],
   "execution_count": 16
  },
  {
   "metadata": {
    "ExecuteTime": {
     "end_time": "2025-07-10T10:52:46.143832Z",
     "start_time": "2025-07-10T10:52:45.579261Z"
    }
   },
   "cell_type": "code",
   "source": [
    "# Split the data into training and testing sets\n",
    "X_train, X_test, y_train, y_test = train_test_split(X, y, test_size=0.2, random_state=42)\n",
    "\n",
    "# Create and train the MultinomialNB model\n",
    "model = MultinomialNB()\n",
    "model.fit(X_train, y_train)\n",
    "\n",
    "# Make predictions on the test set\n",
    "y_pred = model.predict(X_test)\n",
    "\n",
    "# Evaluate the model\n",
    "accuracy = accuracy_score(y_test, y_pred)\n",
    "print(f\"Accuracy: {accuracy:.4f}\")\n",
    "print(\"\\nClassification Report:\")\n",
    "print(classification_report(y_test, y_pred))"
   ],
   "id": "135e07f2b8170ff4",
   "outputs": [
    {
     "name": "stdout",
     "output_type": "stream",
     "text": [
      "Accuracy: 1.0000\n",
      "\n",
      "Classification Report:\n",
      "              precision    recall  f1-score   support\n",
      "\n",
      "         Bad       1.00      1.00      1.00      5014\n",
      "   Excellent       1.00      1.00      1.00      4894\n",
      "        Good       1.00      1.00      1.00      5120\n",
      "     Neutral       1.00      1.00      1.00      4973\n",
      "\n",
      "    accuracy                           1.00     20001\n",
      "   macro avg       1.00      1.00      1.00     20001\n",
      "weighted avg       1.00      1.00      1.00     20001\n",
      "\n"
     ]
    }
   ],
   "execution_count": 17
  },
  {
   "metadata": {
    "ExecuteTime": {
     "end_time": "2025-07-10T10:52:46.185634Z",
     "start_time": "2025-07-10T10:52:46.175464Z"
    }
   },
   "cell_type": "code",
   "source": "model.predict(tfdif.transform([\"100% accurate\"]))",
   "id": "6c46ed922ccc10d5",
   "outputs": [
    {
     "data": {
      "text/plain": [
       "array(['Good'], dtype='<U9')"
      ]
     },
     "execution_count": 18,
     "metadata": {},
     "output_type": "execute_result"
    }
   ],
   "execution_count": 18
  },
  {
   "metadata": {
    "ExecuteTime": {
     "end_time": "2025-07-10T10:52:46.280070Z",
     "start_time": "2025-07-10T10:52:46.259992Z"
    }
   },
   "cell_type": "code",
   "source": [
    "# Save the trained model and vectorizer using joblib\n",
    "joblib.dump(model, 'sentiment_model.pkl')\n",
    "joblib.dump(tfdif, 'vectorizer.pkl')\n",
    "\n",
    "print(\"Model saved successfully!\")\n",
    "print(\"Files saved:\")\n",
    "print(\"- sentiment_model.pkl\")\n",
    "print(\"- vectorizer.pkl\")\n"
   ],
   "id": "8d67eea2c1b2641c",
   "outputs": [
    {
     "name": "stdout",
     "output_type": "stream",
     "text": [
      "Model saved successfully!\n",
      "Files saved:\n",
      "- sentiment_model.pkl\n",
      "- vectorizer.pkl\n"
     ]
    }
   ],
   "execution_count": 19
  },
  {
   "metadata": {
    "ExecuteTime": {
     "end_time": "2025-07-10T10:52:46.361894Z",
     "start_time": "2025-07-10T10:52:46.357805Z"
    }
   },
   "cell_type": "code",
   "source": "",
   "id": "444d96712c137d78",
   "outputs": [],
   "execution_count": null
  }
 ],
 "metadata": {
  "kernelspec": {
   "display_name": "Python 3",
   "language": "python",
   "name": "python3"
  },
  "language_info": {
   "codemirror_mode": {
    "name": "ipython",
    "version": 2
   },
   "file_extension": ".py",
   "mimetype": "text/x-python",
   "name": "python",
   "nbconvert_exporter": "python",
   "pygments_lexer": "ipython2",
   "version": "2.7.6"
  }
 },
 "nbformat": 4,
 "nbformat_minor": 5
}
